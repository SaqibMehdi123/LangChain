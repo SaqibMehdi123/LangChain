{
 "cells": [
  {
   "cell_type": "markdown",
   "id": "e6e82d69",
   "metadata": {},
   "source": [
    "## **Wikipedia Retriever**"
   ]
  },
  {
   "cell_type": "code",
   "execution_count": 3,
   "id": "d894d6d8",
   "metadata": {},
   "outputs": [],
   "source": [
    "from langchain_community.retrievers import WikipediaRetriever"
   ]
  },
  {
   "cell_type": "code",
   "execution_count": 4,
   "id": "b825e230",
   "metadata": {},
   "outputs": [],
   "source": [
    "# Initialize the retriever (optional: set language and top_k)\n",
    "retriever = WikipediaRetriever()"
   ]
  },
  {
   "cell_type": "code",
   "execution_count": 5,
   "id": "4c03db8c",
   "metadata": {},
   "outputs": [],
   "source": [
    "docs = retriever.invoke(\"TOKYO GHOUL\")"
   ]
  },
  {
   "cell_type": "code",
   "execution_count": 8,
   "id": "3ded7639",
   "metadata": {},
   "outputs": [
    {
     "name": "stdout",
     "output_type": "stream",
     "text": [
      "Tokyo Ghoul (Japanese: 東京喰種（トーキョーグール）, Hepburn: Tōkyō Gūru) is a Japanese dark fantasy manga series written and illustrated by Sui Ishida. It was serialized in Shueisha's seinen manga magazine Weekly Young Jump from September 2011 to September 2014, with its chapters collected in 14 tankōbon volumes. The manga has been licensed for English release in North America by Viz Media.\n",
      "The story is set in an alternate version of Tokyo where humans coexist with ghouls, beings who look like humans but can only survive by eating human flesh. Ken Kaneki is a college student who is transformed into a half-ghoul after an encounter with one of them. He must navigate the complex social and political dynamics between humans and ghouls while struggling to maintain his humanity.\n",
      "A prequel, titled Tokyo Ghoul [Jack], ran online on Jump Live in 2013, with its chapters collected in a single tankōbon volume. A sequel, titled Tokyo Ghoul:re, was serialized in Weekly Young Jump from October 2014 to July 2018, its chapters were collected in 16 tankōbon volumes.\n",
      "A 12-episode anime television series adaptation produced by Pierrot, aired on Tokyo MX from July to September 2014. A 12-episode second season, titled Tokyo Ghoul √A (pronounced Tokyo Ghoul Root A), which follows an original story, aired from January to March 2015. A live-action film based on the manga was released in Japan in July 2017, with a sequel being released in July 2019. An anime adaptation based on the sequel manga, Tokyo Ghoul:re, aired for two seasons; the first from April to June 2018, and the second from October to December 2018.\n",
      "By January 2021, Tokyo Ghoul had over 47 million copies in circulation worldwide, making it one of the best-selling manga series of all time.\n",
      "\n",
      "\n",
      "== Synopsis ==\n",
      "\n",
      "\n",
      "=== Setting ===\n",
      "Tokyo Ghoul is set in an alternate reality where ghouls, creatures that look like normal people but can only survive by eating human flesh, live among the human population in secrecy, hiding their true nature in order to \n"
     ]
    }
   ],
   "source": [
    "print(docs[0].page_content[:2000])"
   ]
  },
  {
   "cell_type": "code",
   "execution_count": null,
   "id": "22ad514e",
   "metadata": {},
   "outputs": [],
   "source": []
  }
 ],
 "metadata": {
  "kernelspec": {
   "display_name": "venv",
   "language": "python",
   "name": "python3"
  },
  "language_info": {
   "codemirror_mode": {
    "name": "ipython",
    "version": 3
   },
   "file_extension": ".py",
   "mimetype": "text/x-python",
   "name": "python",
   "nbconvert_exporter": "python",
   "pygments_lexer": "ipython3",
   "version": "3.12.3"
  }
 },
 "nbformat": 4,
 "nbformat_minor": 5
}
