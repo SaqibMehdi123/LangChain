{
 "cells": [
  {
   "cell_type": "markdown",
   "id": "f8ce1533",
   "metadata": {},
   "source": [
    "# **Shell Tool**"
   ]
  },
  {
   "cell_type": "code",
   "execution_count": 4,
   "id": "baf49870",
   "metadata": {},
   "outputs": [
    {
     "name": "stdout",
     "output_type": "stream",
     "text": [
      "Executing command:\n",
      " whoami\n",
      "saqib-mehdi\n",
      "\n"
     ]
    },
    {
     "name": "stderr",
     "output_type": "stream",
     "text": [
      "/home/saqib-mehdi/Desktop/LangChain (Generative AI) - CampusX/venv/lib/python3.12/site-packages/langchain_community/tools/shell/tool.py:33: UserWarning: The shell tool has no safeguards by default. Use at your own risk.\n",
      "  warnings.warn(\n"
     ]
    }
   ],
   "source": [
    "from langchain_community.tools import ShellTool\n",
    "\n",
    "shell_tool = ShellTool()\n",
    "\n",
    "shell_command = \"whoami\"\n",
    "output = shell_tool.invoke(shell_command)\n",
    "print(output)"
   ]
  },
  {
   "cell_type": "code",
   "execution_count": 6,
   "id": "2935fb50",
   "metadata": {},
   "outputs": [
    {
     "name": "stdout",
     "output_type": "stream",
     "text": [
      "Executing command:\n",
      " ls -la\n",
      "total 12\n",
      "drwxrwxr-x 2 saqib-mehdi saqib-mehdi 4096 Oct 18 23:35 .\n",
      "drwxrwxr-x 3 saqib-mehdi saqib-mehdi 4096 Oct 18 23:35 ..\n",
      "-rw-rw-r-- 1 saqib-mehdi saqib-mehdi    0 Oct 18 23:23 1. websearchtool.ipynb\n",
      "-rw-rw-r-- 1 saqib-mehdi saqib-mehdi  391 Oct 18 23:53 2. ShellTool.ipynb\n",
      "\n"
     ]
    },
    {
     "name": "stderr",
     "output_type": "stream",
     "text": [
      "/home/saqib-mehdi/Desktop/LangChain (Generative AI) - CampusX/venv/lib/python3.12/site-packages/langchain_community/tools/shell/tool.py:33: UserWarning: The shell tool has no safeguards by default. Use at your own risk.\n",
      "  warnings.warn(\n"
     ]
    }
   ],
   "source": [
    "output = shell_tool.invoke('ls -la')\n",
    "print(output)"
   ]
  },
  {
   "cell_type": "code",
   "execution_count": null,
   "id": "5941d20c",
   "metadata": {},
   "outputs": [],
   "source": []
  }
 ],
 "metadata": {
  "kernelspec": {
   "display_name": "venv",
   "language": "python",
   "name": "python3"
  },
  "language_info": {
   "codemirror_mode": {
    "name": "ipython",
    "version": 3
   },
   "file_extension": ".py",
   "mimetype": "text/x-python",
   "name": "python",
   "nbconvert_exporter": "python",
   "pygments_lexer": "ipython3",
   "version": "3.12.3"
  }
 },
 "nbformat": 4,
 "nbformat_minor": 5
}
